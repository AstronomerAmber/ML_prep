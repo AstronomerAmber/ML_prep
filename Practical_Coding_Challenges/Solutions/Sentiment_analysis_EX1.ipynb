{
  "nbformat": 4,
  "nbformat_minor": 0,
  "metadata": {
    "kernelspec": {
      "display_name": "Python 3",
      "language": "python",
      "name": "python3"
    },
    "language_info": {
      "codemirror_mode": {
        "name": "ipython",
        "version": 3
      },
      "file_extension": ".py",
      "mimetype": "text/x-python",
      "name": "python",
      "nbconvert_exporter": "python",
      "pygments_lexer": "ipython3",
      "version": "3.7.4"
    },
    "colab": {
      "name": "Sentiment_analysis_EX1.ipynb",
      "provenance": []
    }
  },
  "cells": [
    {
      "cell_type": "code",
      "metadata": {
        "id": "XEMklSu5sgsh",
        "colab_type": "code",
        "colab": {},
        "outputId": "4db7e256-55d8-4f66-d6bf-385ce36c9908"
      },
      "source": [
        "import pandas as pd\n",
        "import numpy as np\n",
        "from collections import Counter\n",
        "import nltk\n",
        "from nltk.corpus import stopwords\n",
        "from nltk.tokenize import word_tokenize\n",
        "from nltk.stem import WordNetLemmatizer\n",
        "# import spacy\n",
        "import re\n",
        "import string\n",
        "import numpy as np\n",
        "\n",
        "from tqdm import tqdm\n",
        "tqdm.pandas(desc=\"progress-bar\")\n",
        "\n",
        "from sklearn.feature_extraction.text import TfidfVectorizer\n",
        "from sklearn.model_selection import train_test_split\n",
        "from sklearn.metrics import confusion_matrix,classification_report\n",
        "\n",
        "from sklearn.linear_model import LogisticRegression\n",
        "from sklearn.svm import LinearSVC\n",
        "from sklearn.svm import SVC\n",
        "\n",
        "from wordcloud import WordCloud, STOPWORDS, ImageColorGenerator\n",
        "import matplotlib.pyplot as plt"
      ],
      "execution_count": null,
      "outputs": [
        {
          "output_type": "stream",
          "text": [
            "/home/stve/anaconda3/lib/python3.7/site-packages/tqdm/std.py:648: FutureWarning: The Panel class is removed from pandas. Accessing it from the top-level namespace will also be removed in the next version\n",
            "  from pandas import Panel\n"
          ],
          "name": "stderr"
        }
      ]
    },
    {
      "cell_type": "markdown",
      "metadata": {
        "id": "UT7_eCA_sgso",
        "colab_type": "text"
      },
      "source": [
        "# 1. EDA"
      ]
    },
    {
      "cell_type": "code",
      "metadata": {
        "id": "niHdhbHbsgsp",
        "colab_type": "code",
        "colab": {}
      },
      "source": [
        "data = pd.read_csv('imdb-dataset-of-50k-movie-reviews/IMDB Dataset.csv')"
      ],
      "execution_count": null,
      "outputs": []
    },
    {
      "cell_type": "code",
      "metadata": {
        "id": "WgVqVp4ksgst",
        "colab_type": "code",
        "colab": {},
        "outputId": "d08e22f4-36ee-4acd-fc8e-f821f1a23820"
      },
      "source": [
        "# data/label distribution\n",
        "Counter(data.sentiment)"
      ],
      "execution_count": null,
      "outputs": [
        {
          "output_type": "execute_result",
          "data": {
            "text/plain": [
              "Counter({'positive': 25000, 'negative': 25000})"
            ]
          },
          "metadata": {
            "tags": []
          },
          "execution_count": 4
        }
      ]
    },
    {
      "cell_type": "code",
      "metadata": {
        "id": "nTCE4DS6sgsz",
        "colab_type": "code",
        "colab": {},
        "outputId": "c17ccb5b-6ac3-48f9-96f8-3e4c9d5c91bd"
      },
      "source": [
        "# review lengths\n",
        "plt.hist(list(map(len, data.review)))"
      ],
      "execution_count": null,
      "outputs": [
        {
          "output_type": "execute_result",
          "data": {
            "text/plain": [
              "(array([3.4883e+04, 1.0845e+04, 2.9210e+03, 1.0330e+03, 2.9300e+02,\n",
              "        1.4000e+01, 4.0000e+00, 3.0000e+00, 1.0000e+00, 3.0000e+00]),\n",
              " array([   32. ,  1399.2,  2766.4,  4133.6,  5500.8,  6868. ,  8235.2,\n",
              "         9602.4, 10969.6, 12336.8, 13704. ]),\n",
              " <a list of 10 Patch objects>)"
            ]
          },
          "metadata": {
            "tags": []
          },
          "execution_count": 5
        },
        {
          "output_type": "display_data",
          "data": {
            "image/png": "[encoded data removed]",
            "text/plain": [
              "<Figure size 432x288 with 1 Axes>"
            ]
          },
          "metadata": {
            "tags": [],
            "needs_background": "light"
          }
        }
      ]
    },
    {
      "cell_type": "markdown",
      "metadata": {
        "id": "grUDCLXVsgs3",
        "colab_type": "text"
      },
      "source": [
        "# 2. Data Preprocessing\n",
        "- remove stop words, punctuation, capital letters\n",
        "- Tokenize\n",
        "- Stemming\n",
        "- Lemmatizing"
      ]
    },
    {
      "cell_type": "code",
      "metadata": {
        "id": "rmUfgEPYsgs3",
        "colab_type": "code",
        "colab": {}
      },
      "source": [
        "from stop_words import get_stop_words\n",
        "from nltk.stem.porter import PorterStemmer"
      ],
      "execution_count": null,
      "outputs": []
    },
    {
      "cell_type": "code",
      "metadata": {
        "id": "Hz5sYLJLsgs7",
        "colab_type": "code",
        "colab": {}
      },
      "source": [
        "en_stop = get_stop_words('en')"
      ],
      "execution_count": null,
      "outputs": []
    },
    {
      "cell_type": "code",
      "metadata": {
        "id": "gJlXBEt4sgs-",
        "colab_type": "code",
        "colab": {}
      },
      "source": [
        "p_stemmer = PorterStemmer()\n",
        "def preprocess(rws):\n",
        "    # Special normalization\n",
        "    ## getting rid of < br >\n",
        "    res = re.sub(r'<.*?>', '', rws)\n",
        "    # Lower case\n",
        "    res = res.lower()\n",
        "    # Tokenize\n",
        "    res = word_tokenize(res)\n",
        "    # Remove non-alphabetical (ignoring numbers, cause sometimes they could be misleading)\n",
        "    res = [w for w in res if w.isalpha()]\n",
        "    # Stop words\n",
        "    res = [w for w in res if w not in en_stop]\n",
        "    # Stemming if doing word-wise\n",
        "    res = [p_stemmer.stem(w) for w in res]\n",
        "    # Didn't do Lemmatize here, since Stemming is good enough\n",
        "    return ' '.join(res)"
      ],
      "execution_count": null,
      "outputs": []
    },
    {
      "cell_type": "code",
      "metadata": {
        "id": "CBsDuaIQsgtD",
        "colab_type": "code",
        "colab": {}
      },
      "source": [
        "rws = data.review.values"
      ],
      "execution_count": null,
      "outputs": []
    },
    {
      "cell_type": "code",
      "metadata": {
        "id": "bSbTPRkasgtI",
        "colab_type": "code",
        "colab": {},
        "outputId": "3358af1d-adec-49cc-8f49-fc6752c303c4"
      },
      "source": [
        "# preprocessing\n",
        "rws_processed = []\n",
        "n = len(rws)\n",
        "for i in range(n):\n",
        "    rws_processed.append(preprocess(rws[i]))\n",
        "    print('Pre-processing {:.2f}%'.format((i+1)/n*100), end='\\r')"
      ],
      "execution_count": null,
      "outputs": [
        {
          "output_type": "stream",
          "text": [
            "Pre-processing 100.00%\r"
          ],
          "name": "stdout"
        }
      ]
    },
    {
      "cell_type": "code",
      "metadata": {
        "id": "vbxMs5HJsgtL",
        "colab_type": "code",
        "colab": {}
      },
      "source": [
        "rws_processed = np.array(rws_processed)"
      ],
      "execution_count": null,
      "outputs": []
    },
    {
      "cell_type": "code",
      "metadata": {
        "id": "3cJAH6I-sgtO",
        "colab_type": "code",
        "colab": {}
      },
      "source": [
        "lbs = data.sentiment == 'positive'"
      ],
      "execution_count": null,
      "outputs": []
    },
    {
      "cell_type": "markdown",
      "metadata": {
        "id": "botk-82isgtT",
        "colab_type": "text"
      },
      "source": [
        "# 3. Vectorization"
      ]
    },
    {
      "cell_type": "markdown",
      "metadata": {
        "id": "Vu_X7ZE-sgtW",
        "colab_type": "text"
      },
      "source": [
        "### TF-IDF"
      ]
    },
    {
      "cell_type": "code",
      "metadata": {
        "id": "BBNoTJyrsgtX",
        "colab_type": "code",
        "colab": {}
      },
      "source": [
        "from sklearn.feature_extraction.text import TfidfVectorizer"
      ],
      "execution_count": null,
      "outputs": []
    },
    {
      "cell_type": "code",
      "metadata": {
        "id": "sM-U0jRhsgta",
        "colab_type": "code",
        "colab": {},
        "outputId": "b510b1c3-1359-4546-87f5-cdb1cfe78cbd"
      },
      "source": [
        "# applying TF-IDF\n",
        "# 1. limit vocab = 2000, from most frequent\n",
        "# 2. removing stop_words\n",
        "# 3. removing numbers\n",
        "vectorizer = TfidfVectorizer(max_features=2000)\n",
        "X = vectorizer.fit_transform(rws)\n",
        "# print(vectorizer.get_feature_names())\n",
        "print(X.shape)"
      ],
      "execution_count": null,
      "outputs": [
        {
          "output_type": "stream",
          "text": [
            "(50000, 2000)\n"
          ],
          "name": "stdout"
        }
      ]
    },
    {
      "cell_type": "code",
      "metadata": {
        "id": "ucRLDr5Lsgtd",
        "colab_type": "code",
        "colab": {}
      },
      "source": [
        "from sklearn.model_selection import train_test_split\n",
        "X_train, X_test, y_train, y_test = train_test_split(X, lbs, random_state=0)"
      ],
      "execution_count": null,
      "outputs": []
    },
    {
      "cell_type": "markdown",
      "metadata": {
        "id": "e_gYi7I8sgtg",
        "colab_type": "text"
      },
      "source": [
        "### LR on TF-IDF"
      ]
    },
    {
      "cell_type": "code",
      "metadata": {
        "id": "Th1o91iqsgth",
        "colab_type": "code",
        "colab": {},
        "outputId": "881aab21-ec06-4341-e75b-1696abcfb7f1"
      },
      "source": [
        "from sklearn.linear_model import LogisticRegression\n",
        "lr = LogisticRegression()\n",
        "\n",
        "lr.fit(X_train, y_train)\n",
        "y_pred = lr.predict(X_test)\n",
        "print('Validation Acc: % .2f' % (np.mean(y_pred == y_test)*100))"
      ],
      "execution_count": null,
      "outputs": [
        {
          "output_type": "stream",
          "text": [
            "Validation Acc:  87.82\n"
          ],
          "name": "stdout"
        }
      ]
    },
    {
      "cell_type": "code",
      "metadata": {
        "id": "4cM2GjvUsgtl",
        "colab_type": "code",
        "colab": {},
        "outputId": "b0677f41-9534-462b-f07b-8d2e13daa965"
      },
      "source": [
        "print(classification_report(y_test, y_pred))"
      ],
      "execution_count": null,
      "outputs": [
        {
          "output_type": "stream",
          "text": [
            "              precision    recall  f1-score   support\n",
            "\n",
            "       False       0.89      0.87      0.88      6291\n",
            "        True       0.87      0.89      0.88      6209\n",
            "\n",
            "    accuracy                           0.88     12500\n",
            "   macro avg       0.88      0.88      0.88     12500\n",
            "weighted avg       0.88      0.88      0.88     12500\n",
            "\n"
          ],
          "name": "stdout"
        }
      ]
    },
    {
      "cell_type": "markdown",
      "metadata": {
        "id": "MIc0jv8Ssgto",
        "colab_type": "text"
      },
      "source": [
        "### SVM on TF-IDF"
      ]
    },
    {
      "cell_type": "code",
      "metadata": {
        "id": "EmpcNy15sgtp",
        "colab_type": "code",
        "colab": {}
      },
      "source": [
        "from sklearn.svm import SVC\n",
        "from sklearn.decomposition import PCA"
      ],
      "execution_count": null,
      "outputs": []
    },
    {
      "cell_type": "code",
      "metadata": {
        "id": "1t4cPYCHsgts",
        "colab_type": "code",
        "colab": {}
      },
      "source": [
        "pca = PCA()"
      ],
      "execution_count": null,
      "outputs": []
    },
    {
      "cell_type": "code",
      "metadata": {
        "id": "tjko0TMosgtx",
        "colab_type": "code",
        "colab": {}
      },
      "source": [
        "X_pca = pca.fit_transform(X.toarray())"
      ],
      "execution_count": null,
      "outputs": []
    },
    {
      "cell_type": "code",
      "metadata": {
        "id": "r8S2sfvysgt1",
        "colab_type": "code",
        "colab": {},
        "outputId": "6d262829-fc04-41ce-89f4-157c2adad61b"
      },
      "source": [
        "pca.explained_variance_ratio_.cumsum()[1000]\n",
        "# I don't think PCA works great here, since we only get 78% variation explained\n",
        "# even if we include 1000 principle components."
      ],
      "execution_count": null,
      "outputs": [
        {
          "output_type": "execute_result",
          "data": {
            "text/plain": [
              "0.7790538708611334"
            ]
          },
          "metadata": {
            "tags": []
          },
          "execution_count": 32
        }
      ]
    },
    {
      "cell_type": "code",
      "metadata": {
        "id": "i7lXOtqysgt4",
        "colab_type": "code",
        "colab": {}
      },
      "source": [
        "# SVC blows the memory up for huge number of training examples (quadratically)\n",
        "# svm = SVC()\n",
        "# svm.fit(X_train, y_train)\n",
        "# y_pred = lr.predict(X_test)"
      ],
      "execution_count": null,
      "outputs": []
    },
    {
      "cell_type": "code",
      "metadata": {
        "id": "dUe3-Fv4sgt6",
        "colab_type": "code",
        "colab": {}
      },
      "source": [
        "# Linear SVM\n",
        "svm_l = LinearSVC()\n",
        "svm_l.fit(X_train, y_train)\n",
        "y_pred = svm_l.predict(X_test)"
      ],
      "execution_count": null,
      "outputs": []
    },
    {
      "cell_type": "code",
      "metadata": {
        "id": "o6AefEEXsgt-",
        "colab_type": "code",
        "colab": {},
        "outputId": "9dfe4fc2-6fdf-45b6-ac68-cb6466883813"
      },
      "source": [
        "print(classification_report(y_test, y_pred))"
      ],
      "execution_count": null,
      "outputs": [
        {
          "output_type": "stream",
          "text": [
            "              precision    recall  f1-score   support\n",
            "\n",
            "       False       0.88      0.87      0.88      6291\n",
            "        True       0.87      0.88      0.88      6209\n",
            "\n",
            "    accuracy                           0.88     12500\n",
            "   macro avg       0.88      0.88      0.88     12500\n",
            "weighted avg       0.88      0.88      0.88     12500\n",
            "\n"
          ],
          "name": "stdout"
        }
      ]
    },
    {
      "cell_type": "markdown",
      "metadata": {
        "id": "luabHSGMsguB",
        "colab_type": "text"
      },
      "source": [
        "### NNs on TF-IDF vectors"
      ]
    },
    {
      "cell_type": "code",
      "metadata": {
        "scrolled": true,
        "id": "6WlcNIzqsguC",
        "colab_type": "code",
        "colab": {}
      },
      "source": [
        "import keras\n",
        "from keras import Sequential, layers"
      ],
      "execution_count": null,
      "outputs": []
    },
    {
      "cell_type": "code",
      "metadata": {
        "id": "H8oVUWBFsguF",
        "colab_type": "code",
        "colab": {}
      },
      "source": [
        "model = Sequential()\n",
        "model.add(layers.Dense(200, input_dim=2000, activation='relu'))\n",
        "model.add(layers.Dense(50, activation='relu'))\n",
        "model.add(layers.Dense(1, activation='sigmoid'))"
      ],
      "execution_count": null,
      "outputs": []
    },
    {
      "cell_type": "code",
      "metadata": {
        "id": "06URpxXGsguI",
        "colab_type": "code",
        "colab": {}
      },
      "source": [
        "model.compile(loss='binary_crossentropy', optimizer='sgd', metrics=['accuracy'])"
      ],
      "execution_count": null,
      "outputs": []
    },
    {
      "cell_type": "code",
      "metadata": {
        "id": "HQ3V2LNqsguL",
        "colab_type": "code",
        "colab": {},
        "outputId": "1104a679-9d10-413a-ed29-b4e7422e79a2"
      },
      "source": [
        "model.fit(X_train, y_train, epochs=30, batch_size=64, validation_data=(X_test, y_test))"
      ],
      "execution_count": null,
      "outputs": [
        {
          "output_type": "stream",
          "text": [
            "Train on 37500 samples, validate on 12500 samples\n",
            "Epoch 1/30\n",
            "37500/37500 [==============================] - 2s 53us/step - loss: 0.6910 - accuracy: 0.5769 - val_loss: 0.6893 - val_accuracy: 0.6216\n",
            "Epoch 2/30\n",
            "37500/37500 [==============================] - 2s 49us/step - loss: 0.6866 - accuracy: 0.6595 - val_loss: 0.6840 - val_accuracy: 0.6814\n",
            "Epoch 3/30\n",
            "37500/37500 [==============================] - 2s 50us/step - loss: 0.6800 - accuracy: 0.7074 - val_loss: 0.6765 - val_accuracy: 0.7106\n",
            "Epoch 4/30\n",
            "37500/37500 [==============================] - 2s 50us/step - loss: 0.6706 - accuracy: 0.7345 - val_loss: 0.6655 - val_accuracy: 0.7293\n",
            "Epoch 5/30\n",
            "37500/37500 [==============================] - 2s 50us/step - loss: 0.6563 - accuracy: 0.7518 - val_loss: 0.6482 - val_accuracy: 0.7498\n",
            "Epoch 6/30\n",
            "37500/37500 [==============================] - 3s 74us/step - loss: 0.6341 - accuracy: 0.7676 - val_loss: 0.6218 - val_accuracy: 0.7618\n",
            "Epoch 7/30\n",
            "37500/37500 [==============================] - 3s 72us/step - loss: 0.6009 - accuracy: 0.7788 - val_loss: 0.5837 - val_accuracy: 0.7746\n",
            "Epoch 8/30\n",
            "37500/37500 [==============================] - 3s 74us/step - loss: 0.5557 - accuracy: 0.7925 - val_loss: 0.5353 - val_accuracy: 0.7890\n",
            "Epoch 9/30\n",
            "37500/37500 [==============================] - 3s 74us/step - loss: 0.5036 - accuracy: 0.8094 - val_loss: 0.4858 - val_accuracy: 0.8011\n",
            "Epoch 10/30\n",
            "37500/37500 [==============================] - 3s 81us/step - loss: 0.4527 - accuracy: 0.8246 - val_loss: 0.4390 - val_accuracy: 0.8242\n",
            "Epoch 11/30\n",
            "37500/37500 [==============================] - 3s 78us/step - loss: 0.4095 - accuracy: 0.8389 - val_loss: 0.4025 - val_accuracy: 0.8350\n",
            "Epoch 12/30\n",
            "37500/37500 [==============================] - 3s 82us/step - loss: 0.3760 - accuracy: 0.8508 - val_loss: 0.3761 - val_accuracy: 0.8448\n",
            "Epoch 13/30\n",
            "37500/37500 [==============================] - 3s 74us/step - loss: 0.3510 - accuracy: 0.8583 - val_loss: 0.3561 - val_accuracy: 0.8499\n",
            "Epoch 14/30\n",
            "37500/37500 [==============================] - 3s 72us/step - loss: 0.3321 - accuracy: 0.8653 - val_loss: 0.3414 - val_accuracy: 0.8558\n",
            "Epoch 15/30\n",
            "37500/37500 [==============================] - 3s 73us/step - loss: 0.3180 - accuracy: 0.8708 - val_loss: 0.3315 - val_accuracy: 0.8604\n",
            "Epoch 16/30\n",
            "37500/37500 [==============================] - 3s 70us/step - loss: 0.3069 - accuracy: 0.8738 - val_loss: 0.3249 - val_accuracy: 0.8610\n",
            "Epoch 17/30\n",
            "37500/37500 [==============================] - 3s 72us/step - loss: 0.2977 - accuracy: 0.8782 - val_loss: 0.3166 - val_accuracy: 0.8637\n",
            "Epoch 18/30\n",
            "37500/37500 [==============================] - 3s 72us/step - loss: 0.2903 - accuracy: 0.8802 - val_loss: 0.3137 - val_accuracy: 0.8654\n",
            "Epoch 19/30\n",
            "37500/37500 [==============================] - 3s 73us/step - loss: 0.2843 - accuracy: 0.8839 - val_loss: 0.3059 - val_accuracy: 0.8704\n",
            "Epoch 20/30\n",
            "37500/37500 [==============================] - 3s 72us/step - loss: 0.2790 - accuracy: 0.8861 - val_loss: 0.3044 - val_accuracy: 0.8715\n",
            "Epoch 21/30\n",
            "37500/37500 [==============================] - 3s 74us/step - loss: 0.2748 - accuracy: 0.8883 - val_loss: 0.2997 - val_accuracy: 0.8735\n",
            "Epoch 22/30\n",
            "37500/37500 [==============================] - 3s 71us/step - loss: 0.2707 - accuracy: 0.8893 - val_loss: 0.2981 - val_accuracy: 0.8746\n",
            "Epoch 23/30\n",
            "37500/37500 [==============================] - 3s 73us/step - loss: 0.2675 - accuracy: 0.8900 - val_loss: 0.2969 - val_accuracy: 0.8748\n",
            "Epoch 24/30\n",
            "37500/37500 [==============================] - 3s 71us/step - loss: 0.2645 - accuracy: 0.8917 - val_loss: 0.2941 - val_accuracy: 0.8762\n",
            "Epoch 25/30\n",
            "37500/37500 [==============================] - 3s 77us/step - loss: 0.2616 - accuracy: 0.8933 - val_loss: 0.2938 - val_accuracy: 0.8774\n",
            "Epoch 26/30\n",
            "37500/37500 [==============================] - 3s 74us/step - loss: 0.2594 - accuracy: 0.8939 - val_loss: 0.2931 - val_accuracy: 0.8773\n",
            "Epoch 27/30\n",
            "37500/37500 [==============================] - 3s 73us/step - loss: 0.2574 - accuracy: 0.8942 - val_loss: 0.2924 - val_accuracy: 0.8773\n",
            "Epoch 28/30\n",
            "37500/37500 [==============================] - 3s 76us/step - loss: 0.2559 - accuracy: 0.8947 - val_loss: 0.2987 - val_accuracy: 0.8723\n",
            "Epoch 29/30\n",
            "37500/37500 [==============================] - 3s 72us/step - loss: 0.2541 - accuracy: 0.8954 - val_loss: 0.2914 - val_accuracy: 0.8779\n",
            "Epoch 30/30\n",
            "37500/37500 [==============================] - 3s 71us/step - loss: 0.2526 - accuracy: 0.8963 - val_loss: 0.2914 - val_accuracy: 0.8774\n"
          ],
          "name": "stdout"
        },
        {
          "output_type": "execute_result",
          "data": {
            "text/plain": [
              "<keras.callbacks.callbacks.History at 0x7f8fa04c7d50>"
            ]
          },
          "metadata": {
            "tags": []
          },
          "execution_count": 52
        }
      ]
    },
    {
      "cell_type": "code",
      "metadata": {
        "id": "ZLlpWEjdsguO",
        "colab_type": "code",
        "colab": {}
      },
      "source": [
        "y_pred = model.predict(X_test) > 0.5"
      ],
      "execution_count": null,
      "outputs": []
    },
    {
      "cell_type": "code",
      "metadata": {
        "id": "kk-R5aImsguT",
        "colab_type": "code",
        "colab": {},
        "outputId": "d064ba1d-05df-409b-c0f3-905deebf2a33"
      },
      "source": [
        "# the results is similar to LR and LinearSVC\n",
        "print(classification_report(y_test, y_pred))"
      ],
      "execution_count": null,
      "outputs": [
        {
          "output_type": "stream",
          "text": [
            "              precision    recall  f1-score   support\n",
            "\n",
            "       False       0.87      0.89      0.88      6291\n",
            "        True       0.89      0.87      0.88      6209\n",
            "\n",
            "    accuracy                           0.88     12500\n",
            "   macro avg       0.88      0.88      0.88     12500\n",
            "weighted avg       0.88      0.88      0.88     12500\n",
            "\n"
          ],
          "name": "stdout"
        }
      ]
    }
  ]
}